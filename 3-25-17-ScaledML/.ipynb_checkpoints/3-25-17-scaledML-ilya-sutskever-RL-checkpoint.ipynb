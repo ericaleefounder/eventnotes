{
 "cells": [
  {
   "cell_type": "markdown",
   "metadata": {},
   "source": [
    "# Ilya Sutskever (Research Director + Co-Founder at OpenAI) Evolution Strategies: a scalable alternative to reinforcement learning.\n",
    "* Tim Salimans, Jonathan Ho, Peter Chen, Ilya Sutskever\n",
    "\n",
    "###\n",
    "*OpenAI's mission is to build safe AGI, and ensure AGI's benefits are as widely and evenly distributed as possible. \n",
    "* Non-profit of 60 dedicated to working towards our mission regardless of oppprotunies ...\n",
    "* Focus on LT reserach, working at forefront of field, . The best way to predict the future is to invent it. \n",
    "\n",
    "### Learning algorithms that work\n",
    "* Supervised back propogation\n",
    "\n",
    "### Reinforcement Learning (RL) \n",
    "* RL is the right problem\n",
    "* Do we have excellent RL algorithms?\n",
    "* action -> world -> observation\n",
    "* How to build an agent in a complex environment and accomplishes its goals\n",
    "* RL algos can train agents on games and robos, which is really exciting\n",
    "* Super good RL algo brings us closer to AGI\n",
    "* There exist Rl reasonably general RL algos\n",
    "* ex. Raw Pixels => Hidden Layer => probably of up down sway\n",
    "\n",
    "### Evolution strategies\n",
    "* Simplest algorithm\n",
    "* Add noise to the parameters\n",
    "* If the result improves, keep the change\n",
    "* Repeat \n",
    "* Neural networks have M of params\n",
    "* there's no chance for this kind of random hillclimbing to succeed\n",
    "\n",
    "### Surprise\n",
    "* Counterintuitive\n",
    "* Evolution strategies is competitive w/ todays' RL algorithms on standard benchmarks \n",
    "* Evolution stategies randomized finite diffs perbut\n",
    "* Key contributions\n",
    "    * Show the algo is competitive w/ today's existint RL algo's\n",
    "    * Show that it pralellizes extremely well \n",
    "\n",
    "### Paralellization\n",
    "* Hella workers, gradient descent, workers need to share big vectors\n",
    "* Each worker broadasts tiny scalars not vectors\n",
    "\n",
    "### Distributed Evolution Strategies\n",
    "* Quant results on the Humaniod Mujoco task\n",
    "\n",
    "### Competing RL algorithms\n",
    "\n",
    "* A3 Mnih et al 2016\n",
    "* Trust Region Poicy Optimization (TRPO) 2016\n",
    "\n",
    "## Details of Results\n",
    "* Match 1 day A3C on Atari games on avg ( better 50%, worse on 50 of games) in 1 hour of distributed implementation w/ 720 cores\n",
    "* We need 3x-10x more data\n",
    "* No backward pass, no need to store activations in memory\n",
    "\n",
    "\n",
    "\n"
   ]
  },
  {
   "cell_type": "code",
   "execution_count": null,
   "metadata": {
    "collapsed": true
   },
   "outputs": [],
   "source": []
  }
 ],
 "metadata": {
  "kernelspec": {
   "display_name": "Python 2",
   "language": "python",
   "name": "python2"
  },
  "language_info": {
   "codemirror_mode": {
    "name": "ipython",
    "version": 2
   },
   "file_extension": ".py",
   "mimetype": "text/x-python",
   "name": "python",
   "nbconvert_exporter": "python",
   "pygments_lexer": "ipython2",
   "version": "2.7.13"
  }
 },
 "nbformat": 4,
 "nbformat_minor": 2
}
