{
 "cells": [
  {
   "cell_type": "markdown",
   "metadata": {},
   "source": [
    "### Wes McKinney - Pandas Creator - (Two Sigma) Memory Interoperability in Analytics and Machine Learning\n",
    "\n",
    "* Benefits of interoperable data nad meta data\n",
    "* Challenges to sharing memory\n",
    "* Comment: not one size fits all, need multiple tools to work together\n",
    "* Apache Arrow: Purpose and C++ architecutre \n",
    "\n",
    "### Changing Hardware landscape\n",
    "* Intel has released first prodution 3D Xpoint SDD\n",
    "* Reported 1000x faster than NND, less expensive than RAM\n",
    "* Convergence bw RAM vs. shared memory / mmap perforance\n",
    "\n"
   ]
  }
 ],
 "metadata": {
  "kernelspec": {
   "display_name": "Python 2",
   "language": "python",
   "name": "python2"
  },
  "language_info": {
   "codemirror_mode": {
    "name": "ipython",
    "version": 2
   },
   "file_extension": ".py",
   "mimetype": "text/x-python",
   "name": "python",
   "nbconvert_exporter": "python",
   "pygments_lexer": "ipython2",
   "version": "2.7.13"
  }
 },
 "nbformat": 4,
 "nbformat_minor": 2
}
