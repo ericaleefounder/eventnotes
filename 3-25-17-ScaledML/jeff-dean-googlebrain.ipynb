{
 "cells": [
  {
   "cell_type": "markdown",
   "metadata": {},
   "source": [
    "#Google brain team : research impact \n",
    "    Since 2012, published > 130 \n",
    "Main Research Areas\n",
    " * Gen ML, Algos and Techniques \n",
    " * C Sys for ML\n",
    " * NL Understanding\n",
    " * perception\n",
    " * Healthcare\n",
    " * Robotics\n",
    " * Music and Art Generation\n",
    "    [Link] (research.googleblog.com/2017/01/the-google-brain-team-looking-back-on.html)"
   ]
  },
  {
   "cell_type": "code",
   "execution_count": null,
   "metadata": {
    "collapsed": true
   },
   "outputs": [],
   "source": [
    "DL"
   ]
  }
 ],
 "metadata": {
  "kernelspec": {
   "display_name": "Python 2",
   "language": "python",
   "name": "python2"
  },
  "language_info": {
   "codemirror_mode": {
    "name": "ipython",
    "version": 2
   },
   "file_extension": ".py",
   "mimetype": "text/x-python",
   "name": "python",
   "nbconvert_exporter": "python",
   "pygments_lexer": "ipython2",
   "version": "2.7.13"
  }
 },
 "nbformat": 4,
 "nbformat_minor": 2
}
