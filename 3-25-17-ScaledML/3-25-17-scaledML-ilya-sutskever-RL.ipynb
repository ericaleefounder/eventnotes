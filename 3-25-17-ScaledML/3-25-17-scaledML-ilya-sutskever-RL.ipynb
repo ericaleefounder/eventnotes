{
 "cells": [
  {
   "cell_type": "markdown",
   "metadata": {},
   "source": [
    "# Ilya Sutskever (Research Director + Co-Founder at OpenAI) Evolution Strategies: a scalable alternative to reinforcement learning.\n",
    "* Tim Salimans, Jonathan Ho, Peter Chen, Ilya Sutskever\n",
    "\n",
    "###\n",
    "*OpenAI's mission is to build safe AGI, and ensure AGI's benefits are as widely and evenly distributed as possible. \n",
    "* Non-profit of 60 dedicated to working towards our mission regardless of oppprotunies ...\n",
    "* Focus on LT reserach, working at forefront of field, . The best way to predict the future is to invent it. \n",
    "\n",
    "## Learning algorithms that work\n",
    "* Supervised back prop\n",
    "\n",
    "### Reinforcement Learning (RL) \n",
    "* RL is the right problem\n",
    "* Do we have excellent RL algorithms?\n",
    "* action -> world -> observation\n",
    "* How to build an agent in a complex environment and accomplishes its goals\n",
    "* \n",
    "### \n",
    "\n",
    "\n"
   ]
  }
 ],
 "metadata": {
  "kernelspec": {
   "display_name": "Python 2",
   "language": "python",
   "name": "python2"
  },
  "language_info": {
   "codemirror_mode": {
    "name": "ipython",
    "version": 2
   },
   "file_extension": ".py",
   "mimetype": "text/x-python",
   "name": "python",
   "nbconvert_exporter": "python",
   "pygments_lexer": "ipython2",
   "version": "2.7.13"
  }
 },
 "nbformat": 4,
 "nbformat_minor": 2
}
