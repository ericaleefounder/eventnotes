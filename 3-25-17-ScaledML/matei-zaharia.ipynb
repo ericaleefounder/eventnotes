{
 "cells": [
  {
   "cell_type": "markdown",
   "metadata": {},
   "source": [
    "### DAWN: Infastructure of Usable ML - Matei Zaharia (Co-Founder & CTO Databricks, UC Berkeley now teaching at Stanford)\n",
    "* Peter Bailis, Kunle Olukotun, Chris Re, Matei Zaharia\n",
    " \n",
    "Golden age of data\n",
    "* Img recog, NP, planning, info retrieval\n",
    "* Society-scale impact: autonomous vehicles, peronalized medicine, human trafficking\n",
    "no end in sight for ML\n",
    "\n",
    "*for hte best-funded, best trained eng teams\n",
    "\n",
    "## Bldg ML products is too hard\n",
    "* Major success (eg) Alpha Go, IMage Net\n",
    "* Req hundreds to thousands of engs\n",
    "* Huge effort in data prep, model tuin,g experimentation, and prodcutionaizing\n",
    "* Domain experts cannot easily or cheaply build ML products\n",
    "\n",
    "// Matei's comment// Systems problems more than math problems\n",
    "// Infographic: Confic, data collect, feat ext, data ext...ML is a small portion?"
   ]
  },
  {
   "cell_type": "markdown",
   "metadata": {},
   "source": [
    "### DAWN Q\n",
    "What if anyone w/ domain expertise could build their own productionquality ML products? \n",
    "* Without a PhD in ML\n",
    "* Without being an expert in systems\n",
    "* W/o understanding the latest hardware\n",
    "It's happened before\n",
    "\n",
    "# It's happened before - Search:\n",
    "* Before: Decades of research on info retrieval, index,es ranking etc.\n",
    "* After: \n",
    "    * Any dev can add serach to an app by linkin a lib (Solr, Lucene).\n",
    "    * everyone (non-exp users) uses search\n",
    "    \n",
    "# It's happened before - SQL:\n",
    "* Before: raw access to disk, manual layout of records, network databases (CODASYL)\n",
    "* After: SQL forms basi for transactional engines, data warehousing, BI tools"
   ]
  },
  {
   "cell_type": "markdown",
   "metadata": {},
   "source": [
    "### DAWN Stack infographic\n",
    "* Ex: MacroBase for Continuous Analytics\n",
    "* E2E sys to prioritze user attention\n",
    "* Multi Dim Data streams -> MacroBase -> Anomalies + Explanations"
   ]
  },
  {
   "cell_type": "code",
   "execution_count": null,
   "metadata": {
    "collapsed": true
   },
   "outputs": [],
   "source": []
  }
 ],
 "metadata": {
  "kernelspec": {
   "display_name": "Python 2",
   "language": "python",
   "name": "python2"
  },
  "language_info": {
   "codemirror_mode": {
    "name": "ipython",
    "version": 2
   },
   "file_extension": ".py",
   "mimetype": "text/x-python",
   "name": "python",
   "nbconvert_exporter": "python",
   "pygments_lexer": "ipython2",
   "version": "2.7.13"
  }
 },
 "nbformat": 4,
 "nbformat_minor": 2
}
