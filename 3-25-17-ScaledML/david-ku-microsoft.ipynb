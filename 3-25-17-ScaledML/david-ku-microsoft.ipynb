{
 "cells": [
  {
   "cell_type": "markdown",
   "metadata": {},
   "source": [
    "## David Ku (Microsoft) Scaled Machine Learning at Microsoft\n",
    "\n",
    "## AI at Microsoft\n",
    "* Scaling Deep Learning\n",
    "* Learning from 2 scenarios\n",
    "* Driving prog in DL\n",
    "* Challenges + solutions\n",
    "\n",
    "### ML integral part of products \n",
    "* Bing + ads - push limit of scale and agility\n",
    "* Kinect and Holoens - new UI metaphors\n",
    "* Cortana and Xioice - humant to cmoputer\n",
    "* office 365 - + linkedin - knowledge graphs\n",
    "\n",
    "### Microsoft research has and continues to be active in ML AI research\n",
    "* Speech, vision, gesture, input\n",
    "* NLP, and convo dialogues\n",
    "* machine reading comp\n",
    "* systems for AI, AI for systems\n",
    "* as company has reached inflection point around AI \n",
    "\n",
    "* Be great in Inteliggent Agents + Assistants\n",
    "    * cortana, xiao, bots, virt customer assistants\n",
    "    * NL, diaglgo memory + context, tasks and domains\n",
    "\n",
    "* Strength AI capabilities and tech foundation\n",
    "    * data, telemetry, experiemtnation, modeling, devleop tools,\n",
    "    * strengthen AI tools + infra for 1st and 3rd party\n",
    "\n",
    "* Actively Infuse AI into Microsof tproducts\n",
    "    * Office, dynamics, Azure intelligence\n",
    "    * Delivering AI solutiosn and capabilities for our customers\n",
    "\n",
    "* Establish new org to drive this: AI + research"
   ]
  }
 ],
 "metadata": {
  "kernelspec": {
   "display_name": "Python 2",
   "language": "python",
   "name": "python2"
  },
  "language_info": {
   "codemirror_mode": {
    "name": "ipython",
    "version": 2
   },
   "file_extension": ".py",
   "mimetype": "text/x-python",
   "name": "python",
   "nbconvert_exporter": "python",
   "pygments_lexer": "ipython2",
   "version": "2.7.13"
  }
 },
 "nbformat": 4,
 "nbformat_minor": 2
}
